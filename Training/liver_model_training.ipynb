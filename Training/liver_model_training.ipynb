{
 "cells": [
  {
   "cell_type": "code",
   "execution_count": 4,
   "id": "177502bd",
   "metadata": {},
   "outputs": [
    {
     "name": "stdout",
     "output_type": "stream",
     "text": [
      "✅ Dataset loaded successfully.\n",
      "\n",
      "🔍 Missing values:\n",
      " Age                   0\n",
      "Gender                0\n",
      "BMI                   0\n",
      "AlcoholConsumption    0\n",
      "Smoking               0\n",
      "GeneticRisk           0\n",
      "PhysicalActivity      0\n",
      "Diabetes              0\n",
      "Hypertension          0\n",
      "LiverFunctionTest     0\n",
      "Diagnosis             0\n",
      "dtype: int64\n",
      "✅ After dropping nulls, shape = (1700, 11)\n",
      "✅ Model training complete.\n",
      "\n",
      "🎯 Model Performance:\n",
      "Accuracy: 0.9029411764705882\n",
      "\n",
      "Classification Report:\n",
      "               precision    recall  f1-score   support\n",
      "\n",
      "           0       0.93      0.86      0.89       162\n",
      "           1       0.88      0.94      0.91       178\n",
      "\n",
      "    accuracy                           0.90       340\n",
      "   macro avg       0.91      0.90      0.90       340\n",
      "weighted avg       0.90      0.90      0.90       340\n",
      "\n",
      "\n",
      "Confusion Matrix:\n",
      " [[139  23]\n",
      " [ 10 168]]\n",
      "\n",
      "✅ Model and scaler saved as liver_model.pkl and scaler.pkl\n"
     ]
    }
   ],
   "source": [
    "import pandas as pd\n",
    "import numpy as np\n",
    "from sklearn.model_selection import train_test_split\n",
    "from sklearn.ensemble import RandomForestClassifier\n",
    "from sklearn.preprocessing import StandardScaler\n",
    "from sklearn.metrics import classification_report, accuracy_score, confusion_matrix\n",
    "import joblib\n",
    "\n",
    "df = pd.read_csv('liver_data.csv')\n",
    "print(\"✅ Dataset loaded successfully.\")\n",
    "\n",
    "print(\"\\n🔍 Missing values:\\n\", df.isnull().sum())\n",
    "df.dropna(inplace=True)\n",
    "print(\"✅ After dropping nulls, shape =\", df.shape)\n",
    "\n",
    "X = df.drop('Diagnosis', axis=1)\n",
    "y = df['Diagnosis']\n",
    "\n",
    "scaler = StandardScaler()\n",
    "X_scaled = scaler.fit_transform(X)\n",
    "\n",
    "X_train, X_test, y_train, y_test = train_test_split(X_scaled, y, test_size=0.2, random_state=42)\n",
    "\n",
    "model = RandomForestClassifier(\n",
    "    n_estimators=300,\n",
    "    max_depth=10,\n",
    "    min_samples_split=5,\n",
    "    min_samples_leaf=2,\n",
    "    random_state=42\n",
    ")\n",
    "model.fit(X_train, y_train)\n",
    "print(\"✅ Model training complete.\")\n",
    "\n",
    "y_pred = model.predict(X_test)\n",
    "\n",
    "print(\"\\n🎯 Model Performance:\")\n",
    "print(\"Accuracy:\", accuracy_score(y_test, y_pred))\n",
    "print(\"\\nClassification Report:\\n\", classification_report(y_test, y_pred))\n",
    "print(\"\\nConfusion Matrix:\\n\", confusion_matrix(y_test, y_pred))\n",
    "\n",
    "joblib.dump(model, 'liver_model.pkl')\n",
    "joblib.dump(scaler, 'scaler.pkl')\n",
    "print(\"\\n✅ Model and scaler saved as liver_model.pkl and scaler.pkl\")\n"
   ]
  },
  {
   "cell_type": "code",
   "execution_count": 6,
   "id": "33f8cd08",
   "metadata": {},
   "outputs": [
    {
     "name": "stdout",
     "output_type": "stream",
     "text": [
      "Columns in your dataset:\n",
      "['Age', 'Gender', 'BMI', 'AlcoholConsumption', 'Smoking', 'GeneticRisk', 'PhysicalActivity', 'Diabetes', 'Hypertension', 'LiverFunctionTest', 'Diagnosis']\n"
     ]
    }
   ],
   "source": [
    "import pandas as pd\n",
    "\n",
    "df = pd.read_csv('liver_data.csv')\n",
    "print(\"Columns in your dataset:\")\n",
    "print(df.columns.tolist())\n"
   ]
  }
 ],
 "metadata": {
  "kernelspec": {
   "display_name": "Python 3",
   "language": "python",
   "name": "python3"
  },
  "language_info": {
   "codemirror_mode": {
    "name": "ipython",
    "version": 3
   },
   "file_extension": ".py",
   "mimetype": "text/x-python",
   "name": "python",
   "nbconvert_exporter": "python",
   "pygments_lexer": "ipython3",
   "version": "3.13.5"
  }
 },
 "nbformat": 4,
 "nbformat_minor": 5
}
